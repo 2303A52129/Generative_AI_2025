{
  "nbformat": 4,
  "nbformat_minor": 0,
  "metadata": {
    "colab": {
      "provenance": [],
      "authorship_tag": "ABX9TyNf0LDnyWHtb2JHIfJT2Zrq",
      "include_colab_link": true
    },
    "kernelspec": {
      "name": "python3",
      "display_name": "Python 3"
    },
    "language_info": {
      "name": "python"
    }
  },
  "cells": [
    {
      "cell_type": "markdown",
      "metadata": {
        "id": "view-in-github",
        "colab_type": "text"
      },
      "source": [
        "<a href=\"https://colab.research.google.com/github/2303A52129/Generative_AI_2025/blob/main/2303a52129_GENAI_Assignment_No_2_GenAI.ipynb\" target=\"_parent\"><img src=\"https://colab.research.google.com/assets/colab-badge.svg\" alt=\"Open In Colab\"/></a>"
      ]
    },
    {
      "cell_type": "markdown",
      "source": [
        "QUESTION_1"
      ],
      "metadata": {
        "id": "Hxvdr5Y1qMRQ"
      }
    },
    {
      "cell_type": "code",
      "execution_count": 3,
      "metadata": {
        "id": "agxfXgihKaL3",
        "colab": {
          "base_uri": "https://localhost:8080/"
        },
        "outputId": "86e3fbf3-4fa1-4a75-80f3-18a4c406ed66"
      },
      "outputs": [
        {
          "output_type": "stream",
          "name": "stdout",
          "text": [
            "Optimal number of A to produce: 2.00\n",
            "Optimal number of B to produce: 3.00\n",
            "Maximum profit: Rs 27.00\n"
          ]
        }
      ],
      "source": [
        "from scipy.optimize import linprog\n",
        "c = [-6, -5]\n",
        "A = [[1, 1],\n",
        "     [3, 2]]\n",
        "b = [5, 12]\n",
        "x_bounds = (0, None)\n",
        "y_bounds = (0, None)\n",
        "result = linprog(c, A_ub=A, b_ub=b, bounds=[x_bounds, y_bounds], method='highs')\n",
        "if result.success:\n",
        "    print(f\"Optimal number of A to produce: {result.x[0]:.2f}\")\n",
        "    print(f\"Optimal number of B to produce: {result.x[1]:.2f}\")\n",
        "    print(f\"Maximum profit: Rs {(-result.fun):.2f}\")\n",
        "else:\n",
        "    print(\"No solution found.\")\n"
      ]
    },
    {
      "cell_type": "markdown",
      "source": [
        "QUESTION-2"
      ],
      "metadata": {
        "id": "YyQleQWssHlL"
      }
    },
    {
      "cell_type": "code",
      "source": [
        "from scipy.optimize import linprog\n",
        "c = [-50, -120]\n",
        "A = [[1, 1],\n",
        "     [7000, 2000],\n",
        "     [10, 30]]\n",
        "b = [110, 700000, 1200]\n",
        "x_bounds = (0, None)\n",
        "y_bounds = (0, None)\n",
        "result = linprog(c, A_ub=A, b_ub=b, bounds=[x_bounds, y_bounds], method='highs')\n",
        "if result.success:\n",
        "    print(f\"Optimal hectares of Wheat to plant: {result.x[0]:.2f}\")\n",
        "    print(f\"Optimal hectares of Barley to plant: {result.x[1]:.2f}\")\n",
        "    print(f\"Maximum profit: Rs {(-result.fun):.2f}\")\n",
        "else:\n",
        "    print(\"No solution found.\")\n"
      ],
      "metadata": {
        "colab": {
          "base_uri": "https://localhost:8080/"
        },
        "id": "mSRFwuVAqK8H",
        "outputId": "29c173d8-96de-4908-aada-d1a616c3fe8e"
      },
      "execution_count": 4,
      "outputs": [
        {
          "output_type": "stream",
          "name": "stdout",
          "text": [
            "Optimal hectares of Wheat to plant: 97.89\n",
            "Optimal hectares of Barley to plant: 7.37\n",
            "Maximum profit: Rs 5778.95\n"
          ]
        }
      ]
    }
  ]
}